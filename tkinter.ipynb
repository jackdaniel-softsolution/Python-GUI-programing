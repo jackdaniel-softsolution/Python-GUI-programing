{
 "cells": [
  {
   "cell_type": "code",
   "execution_count": 3,
   "metadata": {},
   "outputs": [],
   "source": [
    "from tkinter import*\n",
    "\n",
    "parent=Tk()\n",
    "parent.mainloop()"
   ]
  },
  {
   "cell_type": "code",
   "execution_count": 6,
   "metadata": {},
   "outputs": [],
   "source": [
    "from tkinter import*\n",
    "\n",
    "parent=Tk()\n",
    "name=Label(parent,text='name',fg='red',bg='black').pack()\n",
    "parent.mainloop()"
   ]
  },
  {
   "cell_type": "code",
   "execution_count": 7,
   "metadata": {},
   "outputs": [],
   "source": [
    "from tkinter import*\n",
    "\n",
    "parent=Tk()\n",
    "but1=Button(parent,text='red',bg='red',fg='white').pack(side=LEFT)\n",
    "but1=Button(parent,text='yellow',bg='yellow',fg='white').pack(side=RIGHT)\n",
    "but1=Button(parent,text='orange',bg='orange',fg='white').pack(side=TOP)\n",
    "but1=Button(parent,text='pink',bg='pink',fg='white').pack(side=BOTTOM)\n",
    "parent.mainloop()\n",
    "\n"
   ]
  },
  {
   "cell_type": "code",
   "execution_count": 11,
   "metadata": {},
   "outputs": [],
   "source": [
    "from tkinter import*\n",
    "\n",
    "parent=Tk()\n",
    "parent.geometry('300x200')\n",
    "name=Label(parent,text='name').grid(row=0,column=0)\n",
    "password=Label(parent,text='password').grid(row=2,column=0)\n",
    "submit=Button(parent,text='submit').grid(row=3,column=1)\n",
    "text1=Entry(parent).grid(row=0,column=1)\n",
    "text2=Entry(parent).grid(row=2,column=1)\n",
    "parent.mainloop()"
   ]
  },
  {
   "cell_type": "code",
   "execution_count": 21,
   "metadata": {},
   "outputs": [],
   "source": [
    "from tkinter import*\n",
    "\n",
    "parent=Tk()\n",
    "parent.geometry('300x200')\n",
    "name=Label(parent,text='name').place(x=20,y=50)\n",
    "password=Label(parent,text='password').place(x=20,y=80)\n",
    "submit=Button(parent,text='submit').place(x=130,y=140)\n",
    "text1=Entry(parent).place(x=100,y=50)\n",
    "text2=Entry(parent).place(x=100,y=80)\n",
    "parent.mainloop()"
   ]
  },
  {
   "cell_type": "code",
   "execution_count": 34,
   "metadata": {},
   "outputs": [],
   "source": [
    "from tkinter import*\n",
    "from tkinter import messagebox\n",
    "\n",
    "def mes1():\n",
    "    messagebox.showinfo('welcome','you enterd red button')\n",
    "def mes2():\n",
    "    messagebox.showinfo('welcome','you enterd yellow button')\n",
    "def mes3():\n",
    "    messagebox.showinfo('welcome','you enterd orange button')\n",
    "def mes4():\n",
    "    messagebox.showinfo('welcome','you enterd pink button')\n",
    "        \n",
    "parent=Tk()\n",
    "parent.geometry('300x200')\n",
    "but1=Button(parent,text='red',activeforeground='yellow',activebackground='black',command=mes1,bg='red',fg='white').pack(side=LEFT)\n",
    "but1=Button(parent,text='yellow',bg='yellow',command=mes2,fg='white').pack(side=RIGHT)\n",
    "but1=Button(parent,text='orange',bg='orange',command=mes3,fg='white').pack(side=TOP)\n",
    "but1=Button(parent,text='pink',bg='pink',command=mes4,fg='white').pack(side=BOTTOM)\n",
    "parent.mainloop()\n"
   ]
  },
  {
   "cell_type": "code",
   "execution_count": 45,
   "metadata": {},
   "outputs": [],
   "source": [
    "from tkinter import*\n",
    "\n",
    "parent=Tk()\n",
    "parent.geometry('300x300')\n",
    "c=Canvas(parent,bg='pink',height='200',width='250').pack()\n",
    "parent.mainloop()"
   ]
  },
  {
   "cell_type": "code",
   "execution_count": 62,
   "metadata": {},
   "outputs": [],
   "source": [
    "from tkinter import *   \n",
    "      \n",
    "parent = Tk()  \n",
    "parent.geometry(\"200x200\")    \n",
    "c = Canvas(parent,bg = \"pink\",height = \"200\",width = 200)  \n",
    "arc = c.create_arc((5,20,150,200),start = 0,extent = 150, fill= \"white\")  \n",
    "c.pack()  \n",
    "parent.mainloop()  "
   ]
  },
  {
   "cell_type": "code",
   "execution_count": 203,
   "metadata": {},
   "outputs": [],
   "source": [
    "from tkinter import *   \n",
    "      \n",
    "parent = Tk()  \n",
    "parent.geometry('300x200')\n",
    "var1=IntVar()\n",
    "var2=IntVar()\n",
    "var3=IntVar()\n",
    "chbut1=Checkbutton(parent,text='C',variable=var1,onvalue=1,offvalue=0).pack()\n",
    "chbut2=Checkbutton(parent,text='Python',variable=var2,onvalue=1,offvalue=0).pack()\n",
    "chbut3=Checkbutton(parent,text='Java',variable=var3,onvalue=1,offvalue=0).pack()\n",
    "parent.mainloop()\n"
   ]
  },
  {
   "cell_type": "code",
   "execution_count": 123,
   "metadata": {},
   "outputs": [],
   "source": [
    "from tkinter import*\n",
    "from functools import partial  \n",
    "       \n",
    "       \n",
    "def call_result(label_result, n1, n2):  \n",
    "    num1 = (n1.get())  \n",
    "    num2 = (n2.get())   \n",
    "    result = int(num1)+int(num2)  \n",
    "    label_result.config(text=\"Result = %d\" % result)  \n",
    "    return  \n",
    "       \n",
    "root = Tk()  \n",
    "root.geometry('400x200')  \n",
    "root.title('Calculator')  \n",
    "number1 = StringVar()  \n",
    "number2 = StringVar()  \n",
    "labelNum1 =Label(root, text=\"A\").grid(row=1, column=0)  \n",
    "labelNum2 =Label(root, text=\"B\").grid(row=2, column=0)  \n",
    "labelResult =Label(root)  \n",
    "labelResult.grid(row=7, column=2)  \n",
    "entryNum1 = Entry(root, textvariable=number1).grid(row=1, column=2)  \n",
    "entryNum2 = Entry(root, textvariable=number2).grid(row=2, column=2)  \n",
    "call_result = partial(call_result, labelResult, number1, number2)  \n",
    "buttonCal = Button(root, text=\"Calculate\", command=call_result).grid(row=3, column=0)  \n",
    "root.mainloop()  "
   ]
  },
  {
   "cell_type": "code",
   "execution_count": 155,
   "metadata": {},
   "outputs": [],
   "source": [
    "from tkinter import*\n",
    "\n",
    "parent=Tk()\n",
    "parent.geometry('500x400')\n",
    "lab=Label(text='following language are very good').pack()\n",
    "box=Listbox(parent)\n",
    "box.insert(1,'python')\n",
    "box.insert(2,'ml')\n",
    "box.insert(3,'dl')\n",
    "box.insert(4,'ai')\n",
    "box.pack()\n",
    "but1=Button(parent,text='delete',command=lambda box=box:box.delete(ANCHOR)).pack()\n",
    "\n",
    "\n",
    "parent.mainloop()"
   ]
  },
  {
   "cell_type": "code",
   "execution_count": 174,
   "metadata": {},
   "outputs": [],
   "source": [
    "from tkinter import*\n",
    "\n",
    "parent=Tk()\n",
    "parent.geometry('500x400')\n",
    "menu=Menubutton(parent,text='file',relief=FLAT)\n",
    "menu.m=Menu(menu)\n",
    "menu['menu']=menu.m\n",
    "menu.m.add_checkbutton(label='new project',variable=IntVar())\n",
    "menu.m.add_checkbutton(label='open',variable=IntVar())\n",
    "menu.m.add_checkbutton(label='save',variable=IntVar())\n",
    "menu.m.add_checkbutton(label='save_as',variable=IntVar())\n",
    "menu.m.add_checkbutton(label='exit',variable=IntVar())\n",
    "menu.grid()\n",
    "parent.mainloop()\n",
    "\n",
    "\n"
   ]
  },
  {
   "cell_type": "code",
   "execution_count": 171,
   "metadata": {},
   "outputs": [],
   "source": [
    "from tkinter import*\n",
    "\n",
    "def simple():\n",
    "    messagebox.showinfo('welcome','hello!!!!!')\n",
    "\n",
    "parent=Tk()\n",
    "menubar=Menu(parent)\n",
    "menubar.add_command(label='hello',command=simple)\n",
    "menubar.add_command(label='quit',command=parent.quit)\n",
    "parent.config(menu=menubar)\n",
    "parent.mainloop()\n"
   ]
  },
  {
   "cell_type": "code",
   "execution_count": 202,
   "metadata": {},
   "outputs": [],
   "source": [
    "from tkinter import*\n",
    "from tkinter import Toplevel,Button,Tk,Menu\n",
    "\n",
    "parent=Tk()\n",
    "menubar=Menu(parent)\n",
    "\n",
    "file=Menu(menubar,tearoff=0)\n",
    "file.add_command(label='open')\n",
    "file.add_command(label='new projet')\n",
    "file.add_command(label='save')\n",
    "file.add_command(label='save as')\n",
    "file.add_separator()\n",
    "file.add_command(label='exit')\n",
    "menubar.add_cascade(label='File',menu=file)\n",
    "\n",
    "edit=Menu(menubar,tearoff=0)\n",
    "edit.add_command(label='undo')\n",
    "edit.add_command(label='redo')\n",
    "edit.add_separator()\n",
    "edit.add_command(label='cut')\n",
    "edit.add_command(label='copy')\n",
    "edit.add_command(label='past')\n",
    "menubar.add_cascade(label='Edit',menu=edit)\n",
    "parent.config(menu=menubar)\n",
    "parent.mainloop()"
   ]
  },
  {
   "cell_type": "code",
   "execution_count": 229,
   "metadata": {},
   "outputs": [],
   "source": [
    "from tkinter import*\n",
    "\n",
    "def show():  \n",
    "   selection = \"You selected the option \" + str(radio.get())  \n",
    "   label.config(text = selection)  \n",
    "parent=Tk()\n",
    "parent.geometry('400x300')\n",
    "lab=Label(text='please select the skils').pack()\n",
    "radio=IntVar()\n",
    "ch1=Radiobutton(parent,text='C',variable=radio,value=1,command=show)\n",
    "ch1.pack(anchor=W)\n",
    "ch2=Radiobutton(parent,text='C++',variable=radio,value=2,command=show)\n",
    "ch2.pack(anchor=W)\n",
    "ch3=Radiobutton(parent,text='java',variable=radio,value=3,command=show)\n",
    "ch3.pack(anchor=W)\n",
    "ch4=Radiobutton(parent,text='.net',variable=radio,value=4,command=show)\n",
    "ch4.pack(anchor=W)\n",
    "label=Label(parent)\n",
    "label.pack()\n",
    "parent.mainloop()"
   ]
  },
  {
   "cell_type": "code",
   "execution_count": 243,
   "metadata": {},
   "outputs": [],
   "source": [
    "from tkinter import*\n",
    "\n",
    "def sample():  \n",
    "   selection = \"You selected the value \" + str(v.get())  \n",
    "   lab.config(text = selection)  \n",
    "\n",
    "parent=Tk()\n",
    "parent.geometry('400x300')\n",
    "v=IntVar()\n",
    "sc=Scale(parent,from_=1,to=10,variable=v,orient=HORIZONTAL)\n",
    "but=Button(parent,text='Enter',command=sample)\n",
    "lab=Label(parent)\n",
    "lab.pack()\n",
    "sc.pack(anchor=W)\n",
    "but.pack(anchor=W)\n",
    "parent.mainloop()"
   ]
  },
  {
   "cell_type": "code",
   "execution_count": 261,
   "metadata": {},
   "outputs": [],
   "source": [
    "from tkinter import*\n",
    "\n",
    "parent=Tk()\n",
    "#parent.geometry('400x300')\n",
    "bar=Scrollbar(parent)\n",
    "data=Listbox(parent,yscrollcommand=bar.set)\n",
    "for i in range (1,30):\n",
    "    data.insert(END,'number' + str(i))\n",
    "data.pack(side=LEFT)\n",
    "bar.pack(side=RIGHT,fill=Y)\n",
    "bar.config(command=data.yview)\n",
    "but=Button(parent,text='DELETE',command=lambda data=data:data.delete(ANCHOR)).pack()\n",
    "parent.mainloop()\n",
    "        \n",
    "\n"
   ]
  },
  {
   "cell_type": "code",
   "execution_count": 266,
   "metadata": {},
   "outputs": [],
   "source": [
    "from tkinter import*\n",
    "\n",
    "parent=Tk()\n",
    "parent.geometry('400x300')\n",
    "box=Text(parent).pack()\n",
    "parent.mainloop()"
   ]
  },
  {
   "cell_type": "code",
   "execution_count": 270,
   "metadata": {},
   "outputs": [],
   "source": [
    "from tkinter import*\n",
    "\n",
    "def nex():\n",
    "    top=Toplevel(parent)\n",
    "    top.mainloop()\n",
    "    \n",
    "parent=Tk()\n",
    "parent.geometry('400x300')\n",
    "but=Button(parent,text='next',command=nex).pack()\n",
    "parent.mainloop()"
   ]
  },
  {
   "cell_type": "code",
   "execution_count": 271,
   "metadata": {},
   "outputs": [],
   "source": [
    "from tkinter import*\n",
    "\n",
    "parent=Tk()\n",
    "parent.geometry('400x300')\n",
    "s=Spinbox(parent,from_=1,to=10).pack()\n",
    "parent.mainloop()"
   ]
  },
  {
   "cell_type": "code",
   "execution_count": 283,
   "metadata": {},
   "outputs": [],
   "source": [
    "from tkinter import*\n",
    "def mes():\n",
    "    messagebox.showinfo('information','hai welcome to the daniel softech_solution')\n",
    "def war():\n",
    "    messagebox.showwarning('warnings','wrong selecction')\n",
    "def err():\n",
    "    messagebox.showerror('error','file cannot open')                    \n",
    "def qu():\n",
    "    messagebox.askquestion('question','are you sure?')\n",
    "def ok():\n",
    "    messagebox.askokcancel('ok or cancel','delete this file')\n",
    "def ret():\n",
    "    messagebox.askretrycancel('retry','process destroyed')\n",
    "def yes():\n",
    "    messagebox.askyesno('yes or no','save this files')\n",
    "        \n",
    "parent=Tk()\n",
    "parent.geometry('400x300')\n",
    "radio=IntVar()\n",
    "but=Button(parent,text='information',command=mes).pack()\n",
    "but1=Button(parent,text='warnings',command=war).pack()\n",
    "but2=Button(parent,text='error',command=err).pack()\n",
    "but3=Button(parent,text='askquestion',command=qu).pack()\n",
    "but4=Button(parent,text='askokcancel',command=ok).pack()\n",
    "but5=Button(parent,text='askretrycancel',command=ret).pack()\n",
    "but6=Button(parent,text='askyesno',command=yes).pack()\n",
    "parent.mainloop()"
   ]
  },
  {
   "cell_type": "code",
   "execution_count": null,
   "metadata": {},
   "outputs": [],
   "source": []
  }
 ],
 "metadata": {
  "kernelspec": {
   "display_name": "Python 3",
   "language": "python",
   "name": "python3"
  },
  "language_info": {
   "codemirror_mode": {
    "name": "ipython",
    "version": 3
   },
   "file_extension": ".py",
   "mimetype": "text/x-python",
   "name": "python",
   "nbconvert_exporter": "python",
   "pygments_lexer": "ipython3",
   "version": "3.6.7"
  }
 },
 "nbformat": 4,
 "nbformat_minor": 2
}
